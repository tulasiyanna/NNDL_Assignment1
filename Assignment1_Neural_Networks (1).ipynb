{
  "nbformat": 4,
  "nbformat_minor": 0,
  "metadata": {
    "colab": {
      "provenance": [],
      "authorship_tag": "ABX9TyPYXVohjk7LbNGop31LIMDq",
      "include_colab_link": true
    },
    "kernelspec": {
      "name": "python3",
      "display_name": "Python 3"
    },
    "language_info": {
      "name": "python"
    }
  },
  "cells": [
    {
      "cell_type": "markdown",
      "metadata": {
        "id": "view-in-github",
        "colab_type": "text"
      },
      "source": [
        "<a href=\"https://colab.research.google.com/github/lxb77340/Assignment_1_700747734/blob/main/Assignment1_Neural_Networks.ipynb\" target=\"_parent\"><img src=\"https://colab.research.google.com/assets/colab-badge.svg\" alt=\"Open In Colab\"/></a>"
      ]
    },
    {
      "cell_type": "code",
      "execution_count": 1,
      "metadata": {
        "colab": {
          "base_uri": "https://localhost:8080/"
        },
        "id": "TFjlsoMGttNo",
        "outputId": "2b9172b8-e588-42f6-cbd9-0320273a4df4"
      },
      "outputs": [
        {
          "output_type": "stream",
          "name": "stdout",
          "text": [
            "              precision    recall  f1-score   support\n",
            "\n",
            "           1       0.19      0.44      0.27         9\n",
            "           2       0.33      0.16      0.21        19\n",
            "           3       0.33      0.20      0.25         5\n",
            "           5       0.00      0.00      0.00         2\n",
            "           6       0.67      1.00      0.80         2\n",
            "           7       1.00      1.00      1.00         6\n",
            "\n",
            "    accuracy                           0.37        43\n",
            "   macro avg       0.42      0.47      0.42        43\n",
            "weighted avg       0.40      0.37      0.36        43\n",
            "\n",
            "Naive Bayes accuracy is:  37.2093023255814\n"
          ]
        }
      ],
      "source": [
        "import pandas as pd\n",
        "from sklearn.model_selection import train_test_split\n",
        "from sklearn.naive_bayes import GaussianNB\n",
        "from sklearn.metrics import classification_report, accuracy_score\n",
        "\n",
        "# load the glass dataset\n",
        "glass_data = pd.read_csv('glass.csv')\n",
        "\n",
        "# split the data into training and testing sets\n",
        "x_train = glass_data.drop(\"Type\", axis=1)\n",
        "y_train = glass_data['Type']\n",
        "\n",
        "\n",
        "x_train, x_test, y_train, y_test = train_test_split(x_train, y_train, test_size=0.2, random_state=0)\n",
        "\n",
        "# Train the model using the training sets\n",
        "gnb = GaussianNB()\n",
        "gnb.fit(x_train, y_train)\n",
        "\n",
        "\n",
        "y_pred = gnb.predict(x_test)\n",
        "# Classification report\n",
        "qual_report = classification_report(y_test, y_pred)\n",
        "print(qual_report)\n",
        "print(\"Naive Bayes accuracy is: \",  (accuracy_score(y_test, y_pred))*100)"
      ]
    },
    {
      "cell_type": "markdown",
      "source": [
        "The code implements the Naïve Bayes method using scikit-learn library with the glass dataset. Here's a summary of the steps:\n",
        "\n",
        "The glass dataset is loaded using pandas.\n",
        "\n",
        "The data is split into training and testing sets using train_test_split. The test set size is set to 20% of the data with a random state of 42.\n",
        "\n",
        "A Gaussian Naïve Bayes classifier is trained on the training set.\n",
        "\n",
        "Predictions are made on the test set using the trained classifier.\n",
        "\n",
        "The model's performance is evaluated by calculating the accuracy score and printing a classification report.\n",
        "\n",
        "The accuracy score represents the overall accuracy of the model on the test set, while the classification report provides detailed metrics such as precision, recall, and F1-score for each class in the dataset. These metrics help assess the model's performance in classifying the glass types.\n",
        "\n"
      ],
      "metadata": {
        "id": "QWBj49U66d2D"
      }
    },
    {
      "cell_type": "code",
      "source": [
        "import pandas as pd\n",
        "from sklearn.model_selection import train_test_split\n",
        "from sklearn.svm import SVC\n",
        "from sklearn.metrics import classification_report, accuracy_score\n",
        "\n",
        "\n",
        "glass_data = pd.read_csv('glass.csv')\n",
        "\n",
        "x_train = glass_data.drop(\"Type\", axis=1)\n",
        "y_train = glass_data['Type']\n",
        "# splitting train and test data using train_test_split\n",
        "x_train, x_test, y_train, y_test = train_test_split(x_train, y_train, test_size=0.2, random_state=0)\n",
        "\n",
        "# Train the model using the training sets\n",
        "svc = SVC()\n",
        "svc.fit(x_train, y_train)\n",
        "y_pred = svc.predict(x_test)\n",
        "# Classification report\n",
        "qual_report = classification_report(y_test, y_pred, zero_division = 0)\n",
        "print(qual_report)\n",
        "print(\"SVM accuracy is: \", accuracy_score(y_test, y_pred)*100)\n"
      ],
      "metadata": {
        "colab": {
          "base_uri": "https://localhost:8080/"
        },
        "id": "m5SMYrMHuozY",
        "outputId": "d119a3e9-38ce-4fdb-990d-9dc8187cc03f"
      },
      "execution_count": 2,
      "outputs": [
        {
          "output_type": "stream",
          "name": "stdout",
          "text": [
            "              precision    recall  f1-score   support\n",
            "\n",
            "           1       0.21      1.00      0.35         9\n",
            "           2       0.00      0.00      0.00        19\n",
            "           3       0.00      0.00      0.00         5\n",
            "           5       0.00      0.00      0.00         2\n",
            "           6       0.00      0.00      0.00         2\n",
            "           7       0.00      0.00      0.00         6\n",
            "\n",
            "    accuracy                           0.21        43\n",
            "   macro avg       0.03      0.17      0.06        43\n",
            "weighted avg       0.04      0.21      0.07        43\n",
            "\n",
            "SVM accuracy is:  20.930232558139537\n"
          ]
        }
      ]
    },
    {
      "cell_type": "markdown",
      "source": [
        "The code implements the linear Support Vector Machine (SVM) method using the scikit-learn library with the same glass dataset. Here's a summary of the steps:\n",
        "\n",
        "The glass dataset is loaded using pandas.\n",
        "\n",
        "The data is split into training and testing sets using train_test_split. The test set size is set to 20% of the data with a random state of 0.\n",
        "\n",
        "A linear SVM model is trained on the training set using the SVC class from scikit-learn. The 'linear' kernel is used for a linear SVM.\n",
        "\n",
        "Predictions are made on the test set using the trained SVM model.\n",
        "\n",
        "The model's performance is evaluated by calculating the accuracy score and printing a classification report.\n",
        "\n",
        "The accuracy score represents the overall accuracy of the SVM model on the test set, while the classification report provides detailed metrics such as precision, recall, and F1-score for each class in the dataset.\n",
        "\n",
        "To compare the accuracy of the Naïve Bayes method and linear SVM method, you can compare the accuracy scores obtained from both models. The model with a higher accuracy score would be considered better in terms of accuracy for this dataset. However, the choice of the better algorithm may depend on various factors such as the nature of the data, the distribution of classes, and the problem at hand. It is recommended to evaluate the performance of different algorithms on multiple metrics and consider the specific requirements of the problem before deciding.\n"
      ],
      "metadata": {
        "id": "RVexeT2CzP13"
      }
    },
    {
      "cell_type": "code",
      "source": [
        "from numpy.core.fromnumeric import mean\n",
        "import pandas as pd\n",
        "import numpy as np\n",
        "import matplotlib.pyplot as plt\n",
        "from sklearn.model_selection import train_test_split\n",
        "from sklearn.linear_model import LinearRegression\n",
        "from sklearn.metrics import mean_squared_error\n",
        "\n",
        "# Import the give \"Salary_Data.csv\"\n",
        "data = pd.read_csv('/content/Salary_Data.csv')\n",
        "\n",
        "# Split the data into input features (X) and target variable\n",
        "X = data.iloc[:, :-1].values\n",
        "y = data.iloc[:, :-1].values\n",
        "\n",
        "# Split the data into train_test partions\n",
        "X_train, X_test, y_train, y_test = train_test_split(X, y, test_size=1/3, random_state=42)\n",
        "\n",
        "# Train and predict the model\n",
        "model = LinearRegression()\n",
        "model.fit(X_train, y_train)\n",
        "y_train_pred = model.predict(X_train)\n",
        "y_test_pred = model.predict(X_test)\n",
        "\n",
        "# Calculate the mean squared error\n",
        "mse_train = mean_squared_error(y_train, y_train_pred)\n",
        "mse_test = mean_squared_error(y_test, y_test_pred)\n",
        "print(\"Mean Squared Error (Train): \",mse_train)\n",
        "print(\"Mean Squared Error (Test): \",mse_test)\n",
        "\n",
        "#Visualize both train and test data using scatter plot\n",
        "plt.scatter(X_train, y_train, color='Green', label = 'TrainData')\n",
        "plt.scatter(X_test, y_test, color='red', label='Test Data')\n",
        "plt.plot(X_train, y_train_pred, color='green', label='Regression Line')\n",
        "plt.xlabel(\"Years of Experience\")\n",
        "plt.ylabel(\"Salary\")\n",
        "plt.legend()\n",
        "plt.show()\n"
      ],
      "metadata": {
        "colab": {
          "base_uri": "https://localhost:8080/",
          "height": 484
        },
        "id": "Dm1T4lLGzSIF",
        "outputId": "0891f94f-9937-4be3-fd8d-36179e7c4aae"
      },
      "execution_count": 4,
      "outputs": [
        {
          "output_type": "stream",
          "name": "stdout",
          "text": [
            "Mean Squared Error (Train):  0.0\n",
            "Mean Squared Error (Test):  0.0\n"
          ]
        },
        {
          "output_type": "display_data",
          "data": {
            "text/plain": [
              "<Figure size 640x480 with 1 Axes>"
            ],
            "image/png": "[encoded data removed]"
          },
          "metadata": {}
        }
      ]
    },
    {
      "cell_type": "markdown",
      "source": [
        "a) We import the necessary libraries: pandas for data manipulation, numpy for array operations, matplotlib.pyplot for visualization, and the required scikit-learn modules.\n",
        "\n",
        "b) We read the \"Salary_Data.csv\" file into a panda DataFrame.\n",
        "\n",
        "c) We split the data into input features X and the target variable y. Then, we split the data into training and test sets using train_test_split(), with a test size of 1/3 and a random state of 42.\n",
        "\n",
        "d) We create an instance of the Linear Regression model, train it on the training data using fit(), and make predictions on both the training and test data using predict().\n",
        "\n",
        "e) We calculate the mean squared error (MSE) using the mean_squared_error() function and print the values.\n",
        "\n",
        "Finally, we visualize the training and test data points as scatter plots and plot the regression line using plt.scatter() and plt.plot(). The plot is displayed using plt.show().\n"
      ],
      "metadata": {
        "id": "3HpNSouc4iU3"
      }
    }
  ]
}